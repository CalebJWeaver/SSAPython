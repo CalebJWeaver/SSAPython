{
  "nbformat": 4,
  "nbformat_minor": 0,
  "metadata": {
    "colab": {
      "provenance": [],
      "mount_file_id": "1Thwk7gdsqSQTDTflVYjQU3xQeCaU85D8",
      "authorship_tag": "ABX9TyMOHtW2TsvBa0z/3aASUhos",
      "include_colab_link": true
    },
    "kernelspec": {
      "name": "python3",
      "display_name": "Python 3"
    },
    "language_info": {
      "name": "python"
    }
  },
  "cells": [
    {
      "cell_type": "markdown",
      "metadata": {
        "id": "view-in-github",
        "colab_type": "text"
      },
      "source": [
        "<a href=\"https://colab.research.google.com/github/CalebJWeaver/SSAPython/blob/main/SSA.ipynb\" target=\"_parent\"><img src=\"https://colab.research.google.com/assets/colab-badge.svg\" alt=\"Open In Colab\"/></a>"
      ]
    },
    {
      "cell_type": "code",
      "source": [
        "# Determines how much of the total value will be represented in the final groupings.\n",
        "# Common values are 95% (0.95) or 99.5% (0.995)\n",
        "accuracy=0.995\n",
        "# Experimentally determined. A good starting place would be 1/4 of length(Y), but thats is not guaranteed\n",
        "L=100\n",
        "# Import the data here. Have you \"X\" or time values as the first colum, and the \"Y\" values as the second.\n",
        "# If you want to use another data format, you will need to change the read on values\n",
        "url='[YOUR DATA HERE]'\n",
        "\n"
      ],
      "metadata": {
        "id": "o1S4o76c45ZE"
      },
      "execution_count": null,
      "outputs": []
    },
    {
      "cell_type": "code",
      "execution_count": null,
      "metadata": {
        "id": "nDaGH_3_lAd-"
      },
      "outputs": [],
      "source": [
        "#setup\n",
        "import numpy as np\n",
        "import pandas as pd\n",
        "import matplotlib.pyplot as plt\n",
        "from statsmodels.tsa.stattools import acf\n",
        "from statsmodels.graphics.tsaplots import plot_acf\n",
        "from scipy.stats import shapiro\n",
        "\n",
        "values = pd.read_csv(url)\n",
        "#creates a matrix of all time points\n",
        "T= values.iloc[:, 0].copy()\n",
        "\n",
        "#creates a matrix with all \"y\" values\n",
        "Y= values.iloc[:, 1].copy()\n",
        "Y = pd.to_numeric(Y.astype(str).str.replace(',', ''), errors='coerce')\n",
        "\n",
        "#plot\n",
        "fig, ax = plt.subplots(figsize=(8, 4),dpi=600)\n",
        "ax.plot(T, Y)\n",
        "plt.xlabel('X')\n",
        "plt.ylabel('Y')\n",
        "plt.title(\"Original Data\")\n",
        "\n",
        "\n",
        "plt.xticks(np.arange(0, len(T), 24)) # Adjust the step size (e.g., 50) as needed\n",
        "plt.xticks(rotation=45)\n",
        "plt.tight_layout()"
      ]
    },
    {
      "cell_type": "code",
      "source": [
        "K=len(Y)-L+1\n",
        "\n",
        "#embedding\n",
        "X = np.zeros(shape = (L, K))\n",
        "for R in range(0,L):\n",
        "  X[R,:]= Y[R:(R+K)]\n",
        "\n",
        "#Calculates U, Sigma and V using the SVD function\n",
        "U, S, V = np.linalg.svd(X)"
      ],
      "metadata": {
        "id": "izk3gHZwjr77"
      },
      "execution_count": null,
      "outputs": []
    },
    {
      "cell_type": "code",
      "source": [
        "Es=np.square(S)\n",
        "Esum=0\n",
        "j=0\n",
        "per=[]\n",
        "#Determines which eigenvalues will be used based on a user determinted accuracy\n",
        "while Esum < accuracy :\n",
        "    Esum=sum((Es[0:j]))/sum((Es))\n",
        "    per=[per,Esum]\n",
        "    j=j+1\n",
        "\n",
        "print('Lambda values =',j)\n",
        "print('percent accuracy',per)\n",
        "\n",
        "Lg=Es[0:j].copy()\n",
        "Xg=range(1,len(Lg)+1)\n",
        "\n",
        "#plot of log values of each lambda used\n",
        "fig, ax = plt.subplots(figsize=(8, 4),dpi=600)\n",
        "plt.plot(Xg,np.log(Lg))\n",
        "plt.title('log(\\u03BB)')\n",
        "plt.xlabel('# \\u03BB')\n",
        "plt.ylabel('log(\\u03BB)')\n",
        "del Lg\n",
        "del Xg\n",
        "del Es\n",
        "\n"
      ],
      "metadata": {
        "id": "snwZ2iQukf7Z"
      },
      "execution_count": null,
      "outputs": []
    },
    {
      "cell_type": "code",
      "source": [
        "x=[]\n",
        "for i in range(0,j+1):\n",
        "  t1=U[:,i].reshape(L,1)\n",
        "  t2=V[i,:].reshape(1,K)\n",
        "  temp= S[i]*np.matmul(t1,t2)\n",
        "  temp=np.flip(temp,1)\n",
        "  x.append(temp)\n",
        "\n",
        "del t1\n",
        "del t2\n",
        "del temp"
      ],
      "metadata": {
        "id": "6hY3GooEkl2_"
      },
      "execution_count": null,
      "outputs": []
    },
    {
      "cell_type": "code",
      "source": [
        "#Grouping process. This is done manually in this program, based on the values of lambda above.\n",
        "#Remember that Python starts the index at 0\n",
        "\n",
        "\n",
        "'''\n",
        "Example:\n",
        "group1=x[0];\n",
        "print('group1=x1')\n",
        "group2=x[1]+x[2]+x[3]+x[4]\n",
        "print('group2=x2+x3+x4+x5')\n",
        "groups=[group1,group2];\n",
        "'''\n",
        "\n",
        "gs=len(groups)"
      ],
      "metadata": {
        "id": "WEqSlNCZGQR6"
      },
      "execution_count": null,
      "outputs": []
    },
    {
      "cell_type": "code",
      "source": [
        "#diagonal averaging\n",
        "Yval=np.zeros(shape=(1,len(Y)-1))\n",
        "for k in range(0,gs):\n",
        "  Ys = []\n",
        "  curr=groups[k]\n",
        "  [row,col]=curr.shape\n",
        "  p=1-row\n",
        "  while p < col-1:\n",
        "     Ys.append(np.mean(np.diag(curr,p)))\n",
        "     p=p+1\n",
        "  Ys=np.flip(Ys)\n",
        "  Yval=np.vstack((Yval,Ys))\n",
        "\n",
        "#figures\n",
        "  plt.figure(k)\n",
        "  fig, ax = plt.subplots(figsize=(8, 6),dpi=600)\n",
        "  ax.plot(T[1:len(T)], Ys)\n",
        "  # Select fewer ticks for the x-axis for better readability\n",
        "  plt.xticks(np.arange(0, len(T), 24)) # Adjust the step size (e.g., 50) as needed\n",
        "  plt.xticks(rotation=45)\n",
        "  plt.tight_layout()\n",
        "\n",
        "  title_string='Group'+str(k+1)+' Plot'\n",
        "  plt.title(title_string)\n",
        "  plt.xlabel('Date')\n",
        "  plt.ylabel('Deaths')\n",
        "\n",
        "\n",
        "  # Compute ACF and 95% confidence intervals\n",
        "  acf_vals, confint = acf(Ys, nlags=30, alpha=0.05)\n",
        "\n",
        "  # %% Plot the ACF\n",
        "  # Create stem plot\n",
        "  lags = np.arange(len(acf_vals))\n",
        "  plt.figure(k+gs)\n",
        "  fig, ax = plt.subplots(figsize=(8, 6),dpi=600)\n",
        "  plt.stem(lags, acf_vals)\n",
        "  plt.xticks(np.arange(0, len(lags), 2))\n",
        "  plt.xlabel('Lag')\n",
        "  plt.ylabel('ACF')\n",
        "  plt.title('Autocorrelation Function Group '+str(k+1))\n",
        "del lags\n",
        "del acf_vals\n",
        "del confint\n",
        "del curr\n",
        "del row\n",
        "del col\n",
        "del p\n",
        "del Ys\n",
        "del title_string"
      ],
      "metadata": {
        "id": "gT92pdWmFwa-"
      },
      "execution_count": null,
      "outputs": []
    },
    {
      "cell_type": "code",
      "source": [
        "error=Y[1:len(Y)]-np.sum(Yval,axis=0)\n",
        "plt.figure(1)\n",
        "fig, ax = plt.subplots(figsize=(8, 6),dpi=600)\n",
        "ax.plot(T[1:len(T)], error)\n",
        "# Select fewer ticks for the x-axis for better readability\n",
        "plt.xticks(np.arange(0, len(T), 24)) # Adjust the step size (e.g., 50) as needed\n",
        "plt.xticks(rotation=45)\n",
        "plt.tight_layout()\n",
        "plt.xlabel('T');\n",
        "plt.ylabel('Y');\n",
        "plt.title(\"Error\");\n",
        "\n",
        "print('mean error=',np.mean(error))\n",
        "\n",
        "plt.figure(2)\n",
        "#Compute ACF and 95% confidence intervals\n",
        "acf_vals, confint = acf(error, nlags=30, alpha=0.05)\n",
        "# %% Plot the ACF\n",
        "# Create stem plot\n",
        "lags = np.arange(len(acf_vals))\n",
        "plt.figure(k+gs)\n",
        "fig, ax = plt.subplots(figsize=(8, 6),dpi=600)\n",
        "plt.stem(lags, acf_vals)\n",
        "plt.xticks(np.arange(0, len(lags), 2))\n",
        "plt.xlabel('Lag')\n",
        "plt.ylabel('ACF')\n",
        "plt.title('Autocorrelation Function of Error')\n",
        "\n",
        "del lags\n",
        "del acf_vals\n",
        "del confint"
      ],
      "metadata": {
        "id": "feW87gcAF68u"
      },
      "execution_count": null,
      "outputs": []
    },
    {
      "cell_type": "code",
      "source": [
        "sm=np.sum(Yval,axis=0)\n",
        "plt.figure\n",
        "plt.plot(sm)\n",
        "plt.xlabel('T');\n",
        "plt.ylabel('Y');\n",
        "plt.title(\"Groups added together\");"
      ],
      "metadata": {
        "id": "ChxDq5jtN-lD"
      },
      "execution_count": null,
      "outputs": []
    },
    {
      "cell_type": "code",
      "source": [
        "plt.figure()\n",
        "fig, ax = plt.subplots(figsize=(8, 4),dpi=600)\n",
        "ax.plot(T[1:len(T)],sm,\"o\", label=\"Estimate\")\n",
        "plt.plot(T[1:len(T)],Y[1:len(Y)], label=\"Original\")\n",
        "plt.xticks(np.arange(0, len(T), 24)) # Adjust the step size (e.g., 50) as needed\n",
        "plt.xticks(rotation=45)\n",
        "plt.tight_layout()\n",
        "plt.xlabel('T');\n",
        "plt.ylabel('Y');\n",
        "title_string='Original and Estimate, L= '+str(L)\n",
        "plt.title(title_string)\n",
        "plt.legend()"
      ],
      "metadata": {
        "id": "l91SEPW8PFTV"
      },
      "execution_count": null,
      "outputs": []
    },
    {
      "cell_type": "code",
      "source": [
        "#Two checks to see if the error is truely error. A normal distribution would be expected for the error\n",
        "\n",
        "plt.figure()\n",
        "fig, ax = plt.subplots(figsize=(8, 6),dpi=600)\n",
        "plt.hist(error)\n",
        "plt.xlabel('Error')\n",
        "plt.ylabel('Frequency')\n",
        "plt.title('Histogram of Error')\n",
        "print(shapiro(error))\n"
      ],
      "metadata": {
        "id": "iDtyVfrQW7hF"
      },
      "execution_count": null,
      "outputs": []
    }
  ]
}